{
 "cells": [
  {
   "cell_type": "code",
   "execution_count": 14,
   "metadata": {},
   "outputs": [],
   "source": [
    "import pandas as pd\n",
    "import geopandas as gpd\n",
    "from shapely.geometry import Point"
   ]
  },
  {
   "cell_type": "code",
   "execution_count": 15,
   "metadata": {},
   "outputs": [],
   "source": [
    "stops = pd.read_csv(\"/Users/abeburton/Desktop/web_mapping/WMfinal/GTFS/stops.txt\")\n",
    "stop_times = pd.read_csv(\"/Users/abeburton/Desktop/web_mapping/WMfinal/GTFS/stop_times.txt\")\n",
    "stop_info = pd.merge(stops, stop_times, how='inner', on='stop_id')"
   ]
  },
  {
   "cell_type": "code",
   "execution_count": 16,
   "metadata": {},
   "outputs": [],
   "source": [
    "def adjust_time(time_str):\n",
    "    # Split the time string into hours, minutes, and seconds\n",
    "    h, m, s = map(int, time_str.split(':'))\n",
    "    \n",
    "    # Adjust hours if they reach or exceed 24\n",
    "    if h >= 24:\n",
    "        h -= 24  # This adjusts 24:01:32 to 00:01:32, for example\n",
    "    \n",
    "    # Reconstruct the time string, formatted as HH:MM:SS\n",
    "    return f\"{h:02}:{m:02}:{s:02}\"\n",
    "\n",
    "# Apply the function to clean the 'departure_time' column\n",
    "stop_info['departure_time'] = stop_info['departure_time'].apply(adjust_time)\n",
    "stop_info['departure_time'] = stop_info['departure_time'].str.strip()\n",
    "stop_info['departure_time'] = pd.to_datetime(stop_info['departure_time'], format='%H:%M:%S').dt.time\n",
    "stop_info = stop_info.sort_values(by='departure_time', ascending=True)\n",
    "stop_info['departure_time'] = stop_info['departure_time'].astype(str)"
   ]
  },
  {
   "cell_type": "code",
   "execution_count": 17,
   "metadata": {},
   "outputs": [],
   "source": [
    "stop_info.drop_duplicates(subset=['stop_id', 'departure_time'], inplace=True)"
   ]
  },
  {
   "cell_type": "code",
   "execution_count": 14,
   "metadata": {},
   "outputs": [
    {
     "data": {
      "text/plain": [
       "(403051, 4)"
      ]
     },
     "execution_count": 14,
     "metadata": {},
     "output_type": "execute_result"
    }
   ],
   "source": [
    "stop_info.shape"
   ]
  },
  {
   "cell_type": "code",
   "execution_count": 18,
   "metadata": {},
   "outputs": [],
   "source": [
    "stop_info.drop(columns=['stop_code', 'stop_name','arrival_time','stop_desc','zone_id', 'stop_url', 'location_type', 'parent_station',\n",
    "       'stop_timezone', 'wheelchair_boarding', 'trip_id', 'stop_sequence', 'stop_headsign', 'pickup_type',\n",
    "       'drop_off_type','shape_dist_traveled','timepoint'], inplace=True)"
   ]
  },
  {
   "cell_type": "code",
   "execution_count": 19,
   "metadata": {},
   "outputs": [
    {
     "data": {
      "text/html": [
       "<div>\n",
       "<style scoped>\n",
       "    .dataframe tbody tr th:only-of-type {\n",
       "        vertical-align: middle;\n",
       "    }\n",
       "\n",
       "    .dataframe tbody tr th {\n",
       "        vertical-align: top;\n",
       "    }\n",
       "\n",
       "    .dataframe thead th {\n",
       "        text-align: right;\n",
       "    }\n",
       "</style>\n",
       "<table border=\"1\" class=\"dataframe\">\n",
       "  <thead>\n",
       "    <tr style=\"text-align: right;\">\n",
       "      <th></th>\n",
       "      <th>stop_id</th>\n",
       "      <th>stop_lat</th>\n",
       "      <th>stop_lon</th>\n",
       "      <th>departure_time</th>\n",
       "      <th>geometry</th>\n",
       "    </tr>\n",
       "  </thead>\n",
       "  <tbody>\n",
       "    <tr>\n",
       "      <th>128717</th>\n",
       "      <td>14120</td>\n",
       "      <td>40.751739</td>\n",
       "      <td>-111.865235</td>\n",
       "      <td>00:00:00</td>\n",
       "      <td>POINT (-111.86523 40.75174)</td>\n",
       "    </tr>\n",
       "    <tr>\n",
       "      <th>141764</th>\n",
       "      <td>14300</td>\n",
       "      <td>40.686958</td>\n",
       "      <td>-111.856951</td>\n",
       "      <td>00:00:00</td>\n",
       "      <td>POINT (-111.85695 40.68696)</td>\n",
       "    </tr>\n",
       "    <tr>\n",
       "      <th>355220</th>\n",
       "      <td>22861</td>\n",
       "      <td>40.724166</td>\n",
       "      <td>-111.897075</td>\n",
       "      <td>00:00:00</td>\n",
       "      <td>POINT (-111.89708 40.72417)</td>\n",
       "    </tr>\n",
       "    <tr>\n",
       "      <th>213672</th>\n",
       "      <td>16533</td>\n",
       "      <td>40.696508</td>\n",
       "      <td>-111.937859</td>\n",
       "      <td>00:00:00</td>\n",
       "      <td>POINT (-111.93786 40.69651)</td>\n",
       "    </tr>\n",
       "    <tr>\n",
       "      <th>196320</th>\n",
       "      <td>16109</td>\n",
       "      <td>40.681191</td>\n",
       "      <td>-111.939051</td>\n",
       "      <td>00:00:00</td>\n",
       "      <td>POINT (-111.93905 40.68119)</td>\n",
       "    </tr>\n",
       "    <tr>\n",
       "      <th>...</th>\n",
       "      <td>...</td>\n",
       "      <td>...</td>\n",
       "      <td>...</td>\n",
       "      <td>...</td>\n",
       "      <td>...</td>\n",
       "    </tr>\n",
       "    <tr>\n",
       "      <th>56207</th>\n",
       "      <td>11653</td>\n",
       "      <td>41.165033</td>\n",
       "      <td>-111.958329</td>\n",
       "      <td>23:59:57</td>\n",
       "      <td>POINT (-111.95833 41.16503)</td>\n",
       "    </tr>\n",
       "    <tr>\n",
       "      <th>440629</th>\n",
       "      <td>25401</td>\n",
       "      <td>40.775592</td>\n",
       "      <td>-111.916961</td>\n",
       "      <td>23:59:57</td>\n",
       "      <td>POINT (-111.91696 40.77559)</td>\n",
       "    </tr>\n",
       "    <tr>\n",
       "      <th>283923</th>\n",
       "      <td>18518</td>\n",
       "      <td>40.746677</td>\n",
       "      <td>-111.888041</td>\n",
       "      <td>23:59:58</td>\n",
       "      <td>POINT (-111.88804 40.74668)</td>\n",
       "    </tr>\n",
       "    <tr>\n",
       "      <th>190783</th>\n",
       "      <td>15929</td>\n",
       "      <td>40.697187</td>\n",
       "      <td>-111.934721</td>\n",
       "      <td>23:59:59</td>\n",
       "      <td>POINT (-111.93472 40.69719)</td>\n",
       "    </tr>\n",
       "    <tr>\n",
       "      <th>213232</th>\n",
       "      <td>16531</td>\n",
       "      <td>40.696534</td>\n",
       "      <td>-111.947692</td>\n",
       "      <td>23:59:59</td>\n",
       "      <td>POINT (-111.94769 40.69653)</td>\n",
       "    </tr>\n",
       "  </tbody>\n",
       "</table>\n",
       "<p>403051 rows × 5 columns</p>\n",
       "</div>"
      ],
      "text/plain": [
       "        stop_id   stop_lat    stop_lon departure_time  \\\n",
       "128717    14120  40.751739 -111.865235       00:00:00   \n",
       "141764    14300  40.686958 -111.856951       00:00:00   \n",
       "355220    22861  40.724166 -111.897075       00:00:00   \n",
       "213672    16533  40.696508 -111.937859       00:00:00   \n",
       "196320    16109  40.681191 -111.939051       00:00:00   \n",
       "...         ...        ...         ...            ...   \n",
       "56207     11653  41.165033 -111.958329       23:59:57   \n",
       "440629    25401  40.775592 -111.916961       23:59:57   \n",
       "283923    18518  40.746677 -111.888041       23:59:58   \n",
       "190783    15929  40.697187 -111.934721       23:59:59   \n",
       "213232    16531  40.696534 -111.947692       23:59:59   \n",
       "\n",
       "                           geometry  \n",
       "128717  POINT (-111.86523 40.75174)  \n",
       "141764  POINT (-111.85695 40.68696)  \n",
       "355220  POINT (-111.89708 40.72417)  \n",
       "213672  POINT (-111.93786 40.69651)  \n",
       "196320  POINT (-111.93905 40.68119)  \n",
       "...                             ...  \n",
       "56207   POINT (-111.95833 41.16503)  \n",
       "440629  POINT (-111.91696 40.77559)  \n",
       "283923  POINT (-111.88804 40.74668)  \n",
       "190783  POINT (-111.93472 40.69719)  \n",
       "213232  POINT (-111.94769 40.69653)  \n",
       "\n",
       "[403051 rows x 5 columns]"
      ]
     },
     "execution_count": 19,
     "metadata": {},
     "output_type": "execute_result"
    }
   ],
   "source": [
    "geometry = [Point(xy) for xy in zip(stop_info['stop_lon'], stop_info['stop_lat'])]\n",
    "geo_stop_info = gpd.GeoDataFrame(stop_info, geometry=geometry)\n",
    "\n",
    "# Set the coordinate reference system (CRS) for your GeoDataFrame if you know it\n",
    "geo_stop_info.set_crs(epsg=4326, inplace=True)  # EPSG 4326 is for WGS 84, commonly used for GPS"
   ]
  },
  {
   "cell_type": "code",
   "execution_count": 20,
   "metadata": {},
   "outputs": [],
   "source": [
    "geo_stop_info.drop(columns=['stop_lat','stop_lon'], inplace=True)"
   ]
  },
  {
   "cell_type": "code",
   "execution_count": 21,
   "metadata": {},
   "outputs": [],
   "source": [
    "geo_stop_info.to_file(\"/Users/abeburton/Desktop/web_mapping/WMfinal/GTFS/stop_info.geojson\", driver=\"GeoJSON\")"
   ]
  },
  {
   "cell_type": "code",
   "execution_count": 14,
   "metadata": {},
   "outputs": [],
   "source": [
    "stop_info.to_csv(\"/Users/abeburton/Desktop/web_mapping/WMfinal/GTFS/stop_info.csv\")"
   ]
  },
  {
   "cell_type": "code",
   "execution_count": 10,
   "metadata": {},
   "outputs": [
    {
     "data": {
      "text/plain": [
       "(72240, 12)"
      ]
     },
     "execution_count": 10,
     "metadata": {},
     "output_type": "execute_result"
    }
   ],
   "source": [
    "# put the transit cost info in the same prjection as other data\n",
    "import geopandas as gpd\n",
    "\n",
    "# Load GeoJSON file\n",
    "gdf = gpd.read_file('/Users/abeburton/Desktop/web_mapping/WMfinal/Low_Transportation_Cost_Index_-6469997285854372953.geojson')\n",
    "\n",
    "# Change the projection to WGS 84 (EPSG:4326)\n",
    "gdf = gdf.to_crs(epsg=4326)\n",
    "\n",
    "gdf.shape"
   ]
  },
  {
   "cell_type": "code",
   "execution_count": 11,
   "metadata": {},
   "outputs": [],
   "source": [
    "gdf = gdf.loc[(gdf.loc[:,'STATE_NAME']=='Utah') & (gdf.loc[:,'COUNTY'].isin(['001','035','049'])),:]"
   ]
  },
  {
   "cell_type": "code",
   "execution_count": 13,
   "metadata": {},
   "outputs": [],
   "source": [
    "# Export to a new GeoJSON file\n",
    "gdf.to_file('/Users/abeburton/Desktop/web_mapping/WMfinal/Low_Transportation_Cost_Index_-6469997285854372953.geojson', driver='GeoJSON')"
   ]
  }
 ],
 "metadata": {
  "kernelspec": {
   "display_name": "py_env",
   "language": "python",
   "name": "python3"
  },
  "language_info": {
   "codemirror_mode": {
    "name": "ipython",
    "version": 3
   },
   "file_extension": ".py",
   "mimetype": "text/x-python",
   "name": "python",
   "nbconvert_exporter": "python",
   "pygments_lexer": "ipython3",
   "version": "3.10.14"
  }
 },
 "nbformat": 4,
 "nbformat_minor": 2
}
